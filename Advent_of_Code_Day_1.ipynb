{
  "nbformat": 4,
  "nbformat_minor": 0,
  "metadata": {
    "colab": {
      "provenance": [],
      "authorship_tag": "ABX9TyPcFkaUW+elGDEQuqs/QzZJ",
      "include_colab_link": true
    },
    "kernelspec": {
      "name": "python3",
      "display_name": "Python 3"
    },
    "language_info": {
      "name": "python"
    }
  },
  "cells": [
    {
      "cell_type": "markdown",
      "metadata": {
        "id": "view-in-github",
        "colab_type": "text"
      },
      "source": [
        "<a href=\"https://colab.research.google.com/github/arkdev9/aoc-2024/blob/main/Advent_of_Code_Day_1.ipynb\" target=\"_parent\"><img src=\"https://colab.research.google.com/assets/colab-badge.svg\" alt=\"Open In Colab\"/></a>"
      ]
    },
    {
      "cell_type": "markdown",
      "source": [
        "# Day 1"
      ],
      "metadata": {
        "id": "giGPNT9g8LiP"
      }
    },
    {
      "cell_type": "markdown",
      "source": [
        "## Part 1"
      ],
      "metadata": {
        "id": "yLWKU8regToZ"
      }
    },
    {
      "cell_type": "markdown",
      "source": [
        "A very dirty solution. Sort both the left and right lists, and calculate differences."
      ],
      "metadata": {
        "id": "XrrtdvjEdwKO"
      }
    },
    {
      "cell_type": "code",
      "execution_count": 12,
      "metadata": {
        "colab": {
          "base_uri": "https://localhost:8080/"
        },
        "id": "bqzXpUR86cGb",
        "outputId": "3b29d79d-5105-4b0d-fbf2-ee8d28fc9eb3"
      },
      "outputs": [
        {
          "output_type": "stream",
          "name": "stdout",
          "text": [
            "3569916\n"
          ]
        }
      ],
      "source": [
        "left = []\n",
        "right = []\n",
        "with open('./sample_data/input.txt') as r:\n",
        "    for line in r.readlines():\n",
        "        l, r = line.strip('\\n').strip().split('  ')\n",
        "        left.append(int(l))\n",
        "        right.append(int(r))\n",
        "\n",
        "left.sort()\n",
        "right.sort()\n",
        "diff = 0\n",
        "for i in range(len(left)):\n",
        "    diff += abs(left[i] - right[i])\n",
        "\n",
        "print(diff)"
      ]
    },
    {
      "cell_type": "markdown",
      "source": [
        "## Part 2"
      ],
      "metadata": {
        "id": "fmoybX-ad4hH"
      }
    },
    {
      "cell_type": "markdown",
      "source": [
        "Make a hash map of the right array, with each number as key and it's count as the value"
      ],
      "metadata": {
        "id": "vgfILvYPgZMC"
      }
    },
    {
      "cell_type": "code",
      "source": [
        "from collections import defaultdict\n",
        "\n",
        "count_map = defaultdict(int)\n",
        "\n",
        "for num in right:\n",
        "    count_map[num] += 1\n",
        "\n",
        "score = 0\n",
        "for num in left:\n",
        "    score += count_map[num] * num\n",
        "\n",
        "print(score)"
      ],
      "metadata": {
        "colab": {
          "base_uri": "https://localhost:8080/"
        },
        "id": "i88Z0Oxwd6iq",
        "outputId": "8762d3b6-67f6-4259-e87e-84847378506a"
      },
      "execution_count": 19,
      "outputs": [
        {
          "output_type": "stream",
          "name": "stdout",
          "text": [
            "26407426\n"
          ]
        }
      ]
    }
  ]
}