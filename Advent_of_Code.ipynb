{
  "nbformat": 4,
  "nbformat_minor": 0,
  "metadata": {
    "colab": {
      "provenance": [],
      "authorship_tag": "ABX9TyPOXcVOwJ7pfyYhqPRObXWW",
      "include_colab_link": true
    },
    "kernelspec": {
      "name": "python3",
      "display_name": "Python 3"
    },
    "language_info": {
      "name": "python"
    }
  },
  "cells": [
    {
      "cell_type": "markdown",
      "metadata": {
        "id": "view-in-github",
        "colab_type": "text"
      },
      "source": [
        "<a href=\"https://colab.research.google.com/github/arkdev9/aoc-2024/blob/main/Advent_of_Code.ipynb\" target=\"_parent\"><img src=\"https://colab.research.google.com/assets/colab-badge.svg\" alt=\"Open In Colab\"/></a>"
      ]
    },
    {
      "cell_type": "markdown",
      "source": [
        "# Day 1 - 1"
      ],
      "metadata": {
        "id": "giGPNT9g8LiP"
      }
    },
    {
      "cell_type": "code",
      "execution_count": 10,
      "metadata": {
        "colab": {
          "base_uri": "https://localhost:8080/"
        },
        "id": "bqzXpUR86cGb",
        "outputId": "a3dc470b-d91e-445f-ff66-2926ebfa64a4"
      },
      "outputs": [
        {
          "output_type": "stream",
          "name": "stdout",
          "text": [
            "3569916\n"
          ]
        }
      ],
      "source": [
        "left = []\n",
        "right = []\n",
        "with open('./sample_data/input.txt') as r:\n",
        "    for line in r.readlines():\n",
        "        l, r = line.strip('\\n').strip().split('  ')\n",
        "        left.append(int(l))\n",
        "        right.append(int(r))\n",
        "\n",
        "left.sort()\n",
        "right.sort()\n",
        "diff = 0\n",
        "for i in range(len(left)):\n",
        "    diff += abs(left[i] - right[i])\n",
        "\n",
        "print(diff)"
      ]
    }
  ]
}