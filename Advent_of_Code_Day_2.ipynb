{
  "nbformat": 4,
  "nbformat_minor": 0,
  "metadata": {
    "colab": {
      "provenance": [],
      "authorship_tag": "ABX9TyM4jGaEPH0dpZzFgZw89Qg+",
      "include_colab_link": true
    },
    "kernelspec": {
      "name": "python3",
      "display_name": "Python 3"
    },
    "language_info": {
      "name": "python"
    }
  },
  "cells": [
    {
      "cell_type": "markdown",
      "metadata": {
        "id": "view-in-github",
        "colab_type": "text"
      },
      "source": [
        "<a href=\"https://colab.research.google.com/github/arkdev9/aoc-2024/blob/main/Advent_of_Code_Day_2.ipynb\" target=\"_parent\"><img src=\"https://colab.research.google.com/assets/colab-badge.svg\" alt=\"Open In Colab\"/></a>"
      ]
    },
    {
      "cell_type": "markdown",
      "source": [
        "# Day 2"
      ],
      "metadata": {
        "id": "mChqCcB7h7MC"
      }
    },
    {
      "cell_type": "markdown",
      "source": [
        "## Part 1\n",
        "\n",
        "> 7 6 4 2 1: Safe because the levels are all decreasing by 1 or 2.\n",
        ">\n",
        "> 1 2 7 8 9: Unsafe because 2 7 is an increase of 5.\n",
        ">\n",
        "> 9 7 6 2 1: Unsafe because 6 2 is a decrease of 4.\n",
        ">\n",
        "> 1 3 2 4 5: Unsafe because 1 3 is increasing but 3 2 is decreasing.\n",
        ">\n",
        "> 8 6 4 4 1: Unsafe because 4 4 is neither an increase or a decrease.\n",
        ">\n",
        "> 1 3 6 7 9: Safe because the levels are all increasing by 1, 2, or 3.\n",
        "\n",
        "Conditions\n",
        "- The levels are either all increasing or all decreasing.\n",
        "- Any two adjacent levels differ by at least one and at most three.\n"
      ],
      "metadata": {
        "id": "g2ylmT7Wh8ur"
      }
    },
    {
      "cell_type": "code",
      "source": [
        "data = []\n",
        "with open('./sample_data/day2.txt') as file_data:\n",
        "    for line in file_data.readlines():\n",
        "        data.append([int(x) for x in line.strip().split()])"
      ],
      "metadata": {
        "id": "PIEMC1Xdh-Ht"
      },
      "execution_count": 28,
      "outputs": []
    },
    {
      "cell_type": "code",
      "source": [
        "safes = 0\n",
        "for line in data:\n",
        "    safe = True\n",
        "    increasing = line[0] < line[1]\n",
        "    i, j = 0, 1\n",
        "    while j < len(line):\n",
        "        diff = line[i] - line[j]\n",
        "        if increasing and diff > 0:\n",
        "            safe = False\n",
        "            break\n",
        "        if not increasing and diff < 0:\n",
        "            safe = False\n",
        "            break\n",
        "\n",
        "        diff = abs(diff)\n",
        "        if not(diff <= 3 and diff >= 1):\n",
        "            safe = False\n",
        "            break\n",
        "\n",
        "        i += 1\n",
        "        j += 1\n",
        "\n",
        "    if safe:\n",
        "        safes += 1"
      ],
      "metadata": {
        "id": "xUuJXdfjiukS"
      },
      "execution_count": 29,
      "outputs": []
    },
    {
      "cell_type": "code",
      "source": [
        "safes"
      ],
      "metadata": {
        "colab": {
          "base_uri": "https://localhost:8080/"
        },
        "id": "7dI_fGv5i-tp",
        "outputId": "86fee30e-0272-4c15-9758-0e9bd1562464"
      },
      "execution_count": 30,
      "outputs": [
        {
          "output_type": "execute_result",
          "data": {
            "text/plain": [
              "479"
            ]
          },
          "metadata": {},
          "execution_count": 30
        }
      ]
    },
    {
      "cell_type": "markdown",
      "source": [
        "## Part 2\n",
        "\n",
        "We need to tolerate up to 1 mistake.\n",
        "\n",
        "i.e. we are allowed to remove one number"
      ],
      "metadata": {
        "id": "mNa6X3mmkWfq"
      }
    },
    {
      "cell_type": "code",
      "source": [
        "safes = 0\n",
        "for line in data:\n",
        "    i, j = 0, 1\n",
        "    while j < len(line):\n",
        ""
      ],
      "metadata": {
        "colab": {
          "base_uri": "https://localhost:8080/",
          "height": 216
        },
        "id": "g2F2prDFkwFI",
        "outputId": "67137c65-50de-41e9-a84d-0c53dbd383e1"
      },
      "execution_count": 23,
      "outputs": [
        {
          "output_type": "error",
          "ename": "IndexError",
          "evalue": "list index out of range",
          "traceback": [
            "\u001b[0;31m---------------------------------------------------------------------------\u001b[0m",
            "\u001b[0;31mIndexError\u001b[0m                                Traceback (most recent call last)",
            "\u001b[0;32m<ipython-input-23-324cac76ca78>\u001b[0m in \u001b[0;36m<cell line: 2>\u001b[0;34m()\u001b[0m\n\u001b[1;32m      3\u001b[0m     \u001b[0msafe\u001b[0m \u001b[0;34m=\u001b[0m \u001b[0;32mTrue\u001b[0m\u001b[0;34m\u001b[0m\u001b[0;34m\u001b[0m\u001b[0m\n\u001b[1;32m      4\u001b[0m     \u001b[0mtolerant\u001b[0m \u001b[0;34m=\u001b[0m \u001b[0;32mTrue\u001b[0m\u001b[0;34m\u001b[0m\u001b[0;34m\u001b[0m\u001b[0m\n\u001b[0;32m----> 5\u001b[0;31m     \u001b[0mincreasing\u001b[0m \u001b[0;34m=\u001b[0m \u001b[0mline\u001b[0m\u001b[0;34m[\u001b[0m\u001b[0;36m0\u001b[0m\u001b[0;34m]\u001b[0m \u001b[0;34m<\u001b[0m \u001b[0mline\u001b[0m\u001b[0;34m[\u001b[0m\u001b[0;36m1\u001b[0m\u001b[0;34m]\u001b[0m\u001b[0;34m\u001b[0m\u001b[0;34m\u001b[0m\u001b[0m\n\u001b[0m\u001b[1;32m      6\u001b[0m     \u001b[0mi\u001b[0m\u001b[0;34m,\u001b[0m \u001b[0mj\u001b[0m \u001b[0;34m=\u001b[0m \u001b[0;36m0\u001b[0m\u001b[0;34m,\u001b[0m \u001b[0;36m1\u001b[0m\u001b[0;34m\u001b[0m\u001b[0;34m\u001b[0m\u001b[0m\n\u001b[1;32m      7\u001b[0m     \u001b[0;32mwhile\u001b[0m \u001b[0mj\u001b[0m \u001b[0;34m<\u001b[0m \u001b[0mlen\u001b[0m\u001b[0;34m(\u001b[0m\u001b[0mline\u001b[0m\u001b[0;34m)\u001b[0m\u001b[0;34m:\u001b[0m\u001b[0;34m\u001b[0m\u001b[0;34m\u001b[0m\u001b[0m\n",
            "\u001b[0;31mIndexError\u001b[0m: list index out of range"
          ]
        }
      ]
    },
    {
      "cell_type": "code",
      "source": [
        "safes"
      ],
      "metadata": {
        "colab": {
          "base_uri": "https://localhost:8080/"
        },
        "id": "wW3ufYxqlZd_",
        "outputId": "be2f5b02-27bd-42cd-b9b0-e1fa9c1d7f77"
      },
      "execution_count": 24,
      "outputs": [
        {
          "output_type": "execute_result",
          "data": {
            "text/plain": [
              "66"
            ]
          },
          "metadata": {},
          "execution_count": 24
        }
      ]
    }
  ]
}